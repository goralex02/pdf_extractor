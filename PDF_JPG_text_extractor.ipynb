{
  "cells": [
    {
      "cell_type": "markdown",
      "metadata": {
        "id": "Ds8Si4CSuTEC"
      },
      "source": [
        "# Распознавание текста с pdf и jpg/png"
      ]
    },
    {
      "cell_type": "markdown",
      "source": [
        "## Пошаговая реализация\n",
        "\n",
        "Изображения автоматически конвертируются в ПДФ\n",
        "\n",
        "Целевая ОС ubuntu"
      ],
      "metadata": {
        "id": "3MGzqrnBvSm2"
      }
    },
    {
      "cell_type": "markdown",
      "source": [
        "### Установка пакетов"
      ],
      "metadata": {
        "id": "a89CgrxGzvEv"
      }
    },
    {
      "cell_type": "code",
      "source": [
        "!apt-get install -y python3-pil tesseract-ocr libtesseract-dev tesseract-ocr-eng tesseract-ocr-rus tesseract-ocr-script-latn poppler-utils -q"
      ],
      "metadata": {
        "colab": {
          "base_uri": "https://localhost:8080/"
        },
        "id": "jweF6bBWqHh-",
        "outputId": "d77c6c42-e40c-4341-8cfb-b32ed938576f"
      },
      "execution_count": 1,
      "outputs": [
        {
          "output_type": "stream",
          "name": "stdout",
          "text": [
            "Reading package lists...\n",
            "Building dependency tree...\n",
            "Reading state information...\n",
            "The following additional packages will be installed:\n",
            "  libarchive-dev libimagequant0 libleptonica-dev libraqm0 python3-olefile tesseract-ocr-osd\n",
            "Suggested packages:\n",
            "  python-pil-doc\n",
            "The following NEW packages will be installed:\n",
            "  libarchive-dev libimagequant0 libleptonica-dev libraqm0 libtesseract-dev poppler-utils\n",
            "  python3-olefile python3-pil tesseract-ocr tesseract-ocr-eng tesseract-ocr-osd tesseract-ocr-rus\n",
            "  tesseract-ocr-script-latn\n",
            "0 upgraded, 13 newly installed, 0 to remove and 20 not upgraded.\n",
            "Need to get 41.4 MB of archives.\n",
            "After this operation, 128 MB of additional disk space will be used.\n",
            "Get:1 http://archive.ubuntu.com/ubuntu jammy-updates/main amd64 libarchive-dev amd64 3.6.0-1ubuntu1.3 [581 kB]\n",
            "Get:2 http://archive.ubuntu.com/ubuntu jammy/main amd64 libimagequant0 amd64 2.17.0-1 [34.6 kB]\n",
            "Get:3 http://archive.ubuntu.com/ubuntu jammy/universe amd64 libleptonica-dev amd64 1.82.0-3build1 [1,562 kB]\n",
            "Get:4 http://archive.ubuntu.com/ubuntu jammy/main amd64 libraqm0 amd64 0.7.0-4ubuntu1 [11.7 kB]\n",
            "Get:5 http://archive.ubuntu.com/ubuntu jammy/universe amd64 libtesseract-dev amd64 4.1.1-2.1build1 [1,600 kB]\n",
            "Get:6 http://archive.ubuntu.com/ubuntu jammy-updates/main amd64 poppler-utils amd64 22.02.0-2ubuntu0.6 [186 kB]\n",
            "Get:7 http://archive.ubuntu.com/ubuntu jammy/main amd64 python3-olefile all 0.46-3 [33.8 kB]\n",
            "Get:8 http://archive.ubuntu.com/ubuntu jammy-updates/main amd64 python3-pil amd64 9.0.1-1ubuntu0.3 [419 kB]\n",
            "Get:9 http://archive.ubuntu.com/ubuntu jammy/universe amd64 tesseract-ocr-eng all 1:4.00~git30-7274cfa-1.1 [1,591 kB]\n",
            "Get:10 http://archive.ubuntu.com/ubuntu jammy/universe amd64 tesseract-ocr-osd all 1:4.00~git30-7274cfa-1.1 [2,990 kB]\n",
            "Get:11 http://archive.ubuntu.com/ubuntu jammy/universe amd64 tesseract-ocr amd64 4.1.1-2.1build1 [236 kB]\n",
            "Get:12 http://archive.ubuntu.com/ubuntu jammy/universe amd64 tesseract-ocr-rus all 1:4.00~git30-7274cfa-1.1 [1,271 kB]\n",
            "Get:13 http://archive.ubuntu.com/ubuntu jammy/universe amd64 tesseract-ocr-script-latn all 1:4.00~git30-7274cfa-1.1 [30.9 MB]\n",
            "Fetched 41.4 MB in 3s (13.7 MB/s)\n",
            "Selecting previously unselected package libarchive-dev:amd64.\n",
            "(Reading database ... 124926 files and directories currently installed.)\n",
            "Preparing to unpack .../00-libarchive-dev_3.6.0-1ubuntu1.3_amd64.deb ...\n",
            "Unpacking libarchive-dev:amd64 (3.6.0-1ubuntu1.3) ...\n",
            "Selecting previously unselected package libimagequant0:amd64.\n",
            "Preparing to unpack .../01-libimagequant0_2.17.0-1_amd64.deb ...\n",
            "Unpacking libimagequant0:amd64 (2.17.0-1) ...\n",
            "Selecting previously unselected package libleptonica-dev.\n",
            "Preparing to unpack .../02-libleptonica-dev_1.82.0-3build1_amd64.deb ...\n",
            "Unpacking libleptonica-dev (1.82.0-3build1) ...\n",
            "Selecting previously unselected package libraqm0:amd64.\n",
            "Preparing to unpack .../03-libraqm0_0.7.0-4ubuntu1_amd64.deb ...\n",
            "Unpacking libraqm0:amd64 (0.7.0-4ubuntu1) ...\n",
            "Selecting previously unselected package libtesseract-dev:amd64.\n",
            "Preparing to unpack .../04-libtesseract-dev_4.1.1-2.1build1_amd64.deb ...\n",
            "Unpacking libtesseract-dev:amd64 (4.1.1-2.1build1) ...\n",
            "Selecting previously unselected package poppler-utils.\n",
            "Preparing to unpack .../05-poppler-utils_22.02.0-2ubuntu0.6_amd64.deb ...\n",
            "Unpacking poppler-utils (22.02.0-2ubuntu0.6) ...\n",
            "Selecting previously unselected package python3-olefile.\n",
            "Preparing to unpack .../06-python3-olefile_0.46-3_all.deb ...\n",
            "Unpacking python3-olefile (0.46-3) ...\n",
            "Selecting previously unselected package python3-pil:amd64.\n",
            "Preparing to unpack .../07-python3-pil_9.0.1-1ubuntu0.3_amd64.deb ...\n",
            "Unpacking python3-pil:amd64 (9.0.1-1ubuntu0.3) ...\n",
            "Selecting previously unselected package tesseract-ocr-eng.\n",
            "Preparing to unpack .../08-tesseract-ocr-eng_1%3a4.00~git30-7274cfa-1.1_all.deb ...\n",
            "Unpacking tesseract-ocr-eng (1:4.00~git30-7274cfa-1.1) ...\n",
            "Selecting previously unselected package tesseract-ocr-osd.\n",
            "Preparing to unpack .../09-tesseract-ocr-osd_1%3a4.00~git30-7274cfa-1.1_all.deb ...\n",
            "Unpacking tesseract-ocr-osd (1:4.00~git30-7274cfa-1.1) ...\n",
            "Selecting previously unselected package tesseract-ocr.\n",
            "Preparing to unpack .../10-tesseract-ocr_4.1.1-2.1build1_amd64.deb ...\n",
            "Unpacking tesseract-ocr (4.1.1-2.1build1) ...\n",
            "Selecting previously unselected package tesseract-ocr-rus.\n",
            "Preparing to unpack .../11-tesseract-ocr-rus_1%3a4.00~git30-7274cfa-1.1_all.deb ...\n",
            "Unpacking tesseract-ocr-rus (1:4.00~git30-7274cfa-1.1) ...\n",
            "Selecting previously unselected package tesseract-ocr-script-latn.\n",
            "Preparing to unpack .../12-tesseract-ocr-script-latn_1%3a4.00~git30-7274cfa-1.1_all.deb ...\n",
            "Unpacking tesseract-ocr-script-latn (1:4.00~git30-7274cfa-1.1) ...\n",
            "Setting up tesseract-ocr-script-latn (1:4.00~git30-7274cfa-1.1) ...\n",
            "Setting up python3-olefile (0.46-3) ...\n",
            "Setting up tesseract-ocr-eng (1:4.00~git30-7274cfa-1.1) ...\n",
            "Setting up libleptonica-dev (1.82.0-3build1) ...\n",
            "Setting up libraqm0:amd64 (0.7.0-4ubuntu1) ...\n",
            "Setting up libimagequant0:amd64 (2.17.0-1) ...\n",
            "Setting up libarchive-dev:amd64 (3.6.0-1ubuntu1.3) ...\n",
            "Setting up tesseract-ocr-osd (1:4.00~git30-7274cfa-1.1) ...\n",
            "Setting up poppler-utils (22.02.0-2ubuntu0.6) ...\n",
            "Setting up tesseract-ocr-rus (1:4.00~git30-7274cfa-1.1) ...\n",
            "Setting up libtesseract-dev:amd64 (4.1.1-2.1build1) ...\n",
            "Setting up python3-pil:amd64 (9.0.1-1ubuntu0.3) ...\n",
            "Setting up tesseract-ocr (4.1.1-2.1build1) ...\n",
            "Processing triggers for man-db (2.10.2-1) ...\n",
            "Processing triggers for libc-bin (2.35-0ubuntu3.8) ...\n",
            "/sbin/ldconfig.real: /usr/local/lib/libtbbbind_2_0.so.3 is not a symbolic link\n",
            "\n",
            "/sbin/ldconfig.real: /usr/local/lib/libtbbbind_2_5.so.3 is not a symbolic link\n",
            "\n",
            "/sbin/ldconfig.real: /usr/local/lib/libtbbmalloc_proxy.so.2 is not a symbolic link\n",
            "\n",
            "/sbin/ldconfig.real: /usr/local/lib/libhwloc.so.15 is not a symbolic link\n",
            "\n",
            "/sbin/ldconfig.real: /usr/local/lib/libtbbbind.so.3 is not a symbolic link\n",
            "\n",
            "/sbin/ldconfig.real: /usr/local/lib/libtbbmalloc.so.2 is not a symbolic link\n",
            "\n",
            "/sbin/ldconfig.real: /usr/local/lib/libur_loader.so.0 is not a symbolic link\n",
            "\n",
            "/sbin/ldconfig.real: /usr/local/lib/libumf.so.0 is not a symbolic link\n",
            "\n",
            "/sbin/ldconfig.real: /usr/local/lib/libur_adapter_opencl.so.0 is not a symbolic link\n",
            "\n",
            "/sbin/ldconfig.real: /usr/local/lib/libtcm.so.1 is not a symbolic link\n",
            "\n",
            "/sbin/ldconfig.real: /usr/local/lib/libtbb.so.12 is not a symbolic link\n",
            "\n",
            "/sbin/ldconfig.real: /usr/local/lib/libtcm_debug.so.1 is not a symbolic link\n",
            "\n",
            "/sbin/ldconfig.real: /usr/local/lib/libur_adapter_level_zero.so.0 is not a symbolic link\n",
            "\n"
          ]
        }
      ]
    },
    {
      "cell_type": "code",
      "source": [
        "!pip install PyPDF2==3.0.1 pdfminer.six==20221105 pdfplumber==0.10.2 Pillow==10.1.0 pdf2image==1.16.3 pytesseract==0.3.10 -q"
      ],
      "metadata": {
        "id": "7sgR5drcuXpk",
        "colab": {
          "base_uri": "https://localhost:8080/"
        },
        "outputId": "28a23f76-29ae-4544-a31a-05e043c642e1"
      },
      "execution_count": 2,
      "outputs": [
        {
          "output_type": "stream",
          "name": "stdout",
          "text": [
            "\u001b[?25l     \u001b[90m━━━━━━━━━━━━━━━━━━━━━━━━━━━━━━━━━━━━━━━━\u001b[0m \u001b[32m0.0/48.2 kB\u001b[0m \u001b[31m?\u001b[0m eta \u001b[36m-:--:--\u001b[0m\r\u001b[2K     \u001b[90m━━━━━━━━━━━━━━━━━━━━━━━━━━━━━━━━━━━━━━━━\u001b[0m \u001b[32m48.2/48.2 kB\u001b[0m \u001b[31m2.5 MB/s\u001b[0m eta \u001b[36m0:00:00\u001b[0m\n",
            "\u001b[2K   \u001b[90m━━━━━━━━━━━━━━━━━━━━━━━━━━━━━━━━━━━━━━━━\u001b[0m \u001b[32m232.6/232.6 kB\u001b[0m \u001b[31m8.9 MB/s\u001b[0m eta \u001b[36m0:00:00\u001b[0m\n",
            "\u001b[2K   \u001b[90m━━━━━━━━━━━━━━━━━━━━━━━━━━━━━━━━━━━━━━━━\u001b[0m \u001b[32m5.6/5.6 MB\u001b[0m \u001b[31m61.5 MB/s\u001b[0m eta \u001b[36m0:00:00\u001b[0m\n",
            "\u001b[2K   \u001b[90m━━━━━━━━━━━━━━━━━━━━━━━━━━━━━━━━━━━━━━━━\u001b[0m \u001b[32m47.5/47.5 kB\u001b[0m \u001b[31m2.8 MB/s\u001b[0m eta \u001b[36m0:00:00\u001b[0m\n",
            "\u001b[2K   \u001b[90m━━━━━━━━━━━━━━━━━━━━━━━━━━━━━━━━━━━━━━━━\u001b[0m \u001b[32m3.6/3.6 MB\u001b[0m \u001b[31m74.2 MB/s\u001b[0m eta \u001b[36m0:00:00\u001b[0m\n",
            "\u001b[2K   \u001b[90m━━━━━━━━━━━━━━━━━━━━━━━━━━━━━━━━━━━━━━━━\u001b[0m \u001b[32m2.9/2.9 MB\u001b[0m \u001b[31m67.8 MB/s\u001b[0m eta \u001b[36m0:00:00\u001b[0m\n",
            "\u001b[?25h"
          ]
        }
      ]
    },
    {
      "cell_type": "markdown",
      "source": [
        "### Подключение библиотек"
      ],
      "metadata": {
        "id": "tXtSq9twz1Bz"
      }
    },
    {
      "cell_type": "code",
      "source": [
        "from google.colab import drive\n",
        "drive.mount('/content/drive')"
      ],
      "metadata": {
        "colab": {
          "base_uri": "https://localhost:8080/"
        },
        "id": "XttUj5j4qONf",
        "outputId": "d3db857e-2ee2-497c-ac7c-cf85f8e4ddda"
      },
      "execution_count": 3,
      "outputs": [
        {
          "output_type": "stream",
          "name": "stdout",
          "text": [
            "Mounted at /content/drive\n"
          ]
        }
      ]
    },
    {
      "cell_type": "code",
      "execution_count": 4,
      "metadata": {
        "id": "Twx2QKCNuTEG"
      },
      "outputs": [],
      "source": [
        "# Для чтения PDF\n",
        "import PyPDF2\n",
        "# Для анализа структуры PDF и извлечения текста\n",
        "from pdfminer.high_level import extract_pages, extract_text\n",
        "from pdfminer.layout import LTTextContainer, LTChar, LTRect, LTFigure\n",
        "# Для извлечения текста из таблиц в PDF\n",
        "import pdfplumber\n",
        "# Для извлечения изображений из PDF\n",
        "from PIL import Image\n",
        "from pdf2image import convert_from_path\n",
        "# Для выполнения OCR для извлечения текста из изображений\n",
        "import pytesseract\n",
        "# Для удаления дополнительных созданных файлов\n",
        "import os"
      ]
    },
    {
      "cell_type": "markdown",
      "source": [
        "### Функция извлечения текста"
      ],
      "metadata": {
        "id": "NtCD_6Rw0KJn"
      }
    },
    {
      "cell_type": "code",
      "execution_count": 5,
      "metadata": {
        "id": "48F2BTjSuTEH"
      },
      "outputs": [],
      "source": [
        "# Создание функции для извлечения текста\n",
        "\n",
        "def text_extraction(element):\n",
        "    # Извлечение текста из элемента встроенного текста\n",
        "    line_text = element.get_text()\n",
        "\n",
        "    # Поиск форматов текста\n",
        "    # Инициализация списка со всеми форматами, появившимися в строке текста\n",
        "    line_formats = []\n",
        "    for text_line in element:\n",
        "        if isinstance(text_line, LTTextContainer):\n",
        "            # Итерация по каждому символу в строке текста\n",
        "            for character in text_line:\n",
        "                if isinstance(character, LTChar):\n",
        "                    # Добавление имени шрифта символа\n",
        "                    line_formats.append(character.fontname)\n",
        "                    # Добавление размера шрифта символа\n",
        "                    line_formats.append(character.size)\n",
        "    # Поиск уникальных размеров шрифтов и названий в строке\n",
        "    format_per_line = list(set(line_formats))\n",
        "\n",
        "    # Возврат кортежа с текстом в каждой строке вместе с его форматом\n",
        "    return (line_text, format_per_line)"
      ]
    },
    {
      "cell_type": "markdown",
      "source": [
        "### Извлечение таблиц со страницы"
      ],
      "metadata": {
        "id": "SVMVt1ID0YBP"
      }
    },
    {
      "cell_type": "code",
      "execution_count": 6,
      "metadata": {
        "id": "bFakEHeWuTEJ"
      },
      "outputs": [],
      "source": [
        "# Извлечение таблиц со страницы\n",
        "\n",
        "def extract_table(pdf_path, page_num, table_num):\n",
        "    # Открытие PDF файла\n",
        "    pdf = pdfplumber.open(pdf_path)\n",
        "    # Поиск рассматриваемой страницы\n",
        "    table_page = pdf.pages[page_num]\n",
        "    # Извлечение соответствующей таблицы\n",
        "    table = table_page.extract_tables()[table_num]\n",
        "\n",
        "    return table\n",
        "\n",
        "# Преобразование таблицы в соответствующий формат\n",
        "def table_converter(table):\n",
        "    table_string = ''\n",
        "    # Итерация по каждой строке таблицы\n",
        "    for row_num in range(len(table)):\n",
        "        row = table[row_num]\n",
        "        # Удаление переносов строк из обернутых текстов\n",
        "        cleaned_row = [item.replace('\\n', ' ') if item is not None and '\\n' in item else 'None' if item is None else item for item in row]\n",
        "        # Преобразование таблицы в строку\n",
        "        table_string += ('|' + '|'.join(cleaned_row) + '|' + '\\n')\n",
        "    # Удаление последнего переноса строки\n",
        "    table_string = table_string[:-1]\n",
        "    return table_string\n",
        "\n",
        "# Создание функции для проверки, находится ли элемент в какой-либо таблице на странице\n",
        "def is_element_inside_any_table(element, page, tables):\n",
        "    x0, y0up, x1, y1up = element.bbox\n",
        "    # Изменение координат, так как pdfminer считает от низа к верху страницы\n",
        "    y0 = page.bbox[3] - y1up\n",
        "    y1 = page.bbox[3] - y0up\n",
        "    for table in tables:\n",
        "        tx0, ty0, tx1, ty1 = table.bbox\n",
        "        if tx0 <= x0 <= x1 <= tx1 and ty0 <= y0 <= y1 <= ty1:\n",
        "            return True\n",
        "    return False\n",
        "\n",
        "# Функция для поиска таблицы для данного элемента\n",
        "def find_table_for_element(element, page, tables):\n",
        "    x0, y0up, x1, y1up = element.bbox\n",
        "    # Изменение координат, так как pdfminer считает от низа к верху страницы\n",
        "    y0 = page.bbox[3] - y1up\n",
        "    y1 = page.bbox[3] - y0up\n",
        "    for i, table in enumerate(tables):\n",
        "        tx0, ty0, tx1, ty1 = table.bbox\n",
        "        if tx0 <= x0 <= x1 <= tx1 and ty0 <= y0 <= y1 <= ty1:\n",
        "            return i  # Возвращаем индекс таблицы\n",
        "    return None"
      ]
    },
    {
      "cell_type": "markdown",
      "source": [
        "### Функция обрезки элементов изображений из pdf"
      ],
      "metadata": {
        "id": "RJSEiQZb0gtO"
      }
    },
    {
      "cell_type": "code",
      "execution_count": 7,
      "metadata": {
        "id": "rnOMe_bcuTEL"
      },
      "outputs": [],
      "source": [
        "# Создание функции для обрезки элементов изображений из PDF\n",
        "def crop_image(element, pageObj):\n",
        "    # Получение координат для обрезки изображения из PDF\n",
        "    [image_left, image_top, image_right, image_bottom] = [element.x0, element.y0, element.x1, element.y1]\n",
        "    # Обрезка страницы с использованием координат (левый, нижний, правый, верхний)\n",
        "    pageObj.mediabox.lower_left = (image_left, image_bottom)\n",
        "    pageObj.mediabox.upper_right = (image_right, image_top)\n",
        "    # Сохранение обрезанной страницы в новый PDF\n",
        "    cropped_pdf_writer = PyPDF2.PdfWriter()\n",
        "    cropped_pdf_writer.add_page(pageObj)\n",
        "    # Сохранение обрезанного PDF в новый файл\n",
        "    with open('cropped_image.pdf', 'wb') as cropped_pdf_file:\n",
        "        cropped_pdf_writer.write(cropped_pdf_file)\n",
        "\n",
        "# Создание функции для преобразования PDF в изображения\n",
        "def convert_to_images(input_file):\n",
        "    images = convert_from_path(input_file)\n",
        "    image = images[0]\n",
        "    output_file = 'PDF_image.png'\n",
        "    image.save(output_file, 'PNG')\n",
        "\n",
        "def get_file_extension(file_path):\n",
        "    \"\"\"Возвращает расширение файла в нижнем регистре.\"\"\"\n",
        "    return os.path.splitext(file_path)[1].lower()\n",
        "\n",
        "def image_to_text(image_path):\n",
        "    try:\n",
        "        # Открываем изображение с явным указанием формата\n",
        "        img = Image.open(image_path)\n",
        "\n",
        "        # Конвертируем в RGB если нужно\n",
        "        if img.mode != 'RGB':\n",
        "            img = img.convert('RGB')\n",
        "\n",
        "        # Явно указываем формат для сохранения\n",
        "        temp_file = \"temp_image.png\"\n",
        "        img.save(temp_file, format='PNG')\n",
        "\n",
        "        # Переоткрываем сохраненное изображение\n",
        "        img = Image.open(temp_file)\n",
        "\n",
        "        text = pytesseract.image_to_string(img, lang='rus+eng')\n",
        "        os.remove(temp_file)  # Удаляем временный файл\n",
        "        return text\n",
        "\n",
        "    except Exception as e:\n",
        "        print(f\"Ошибка обработки изображения: {str(e)}\")\n",
        "        return \"\""
      ]
    },
    {
      "cell_type": "markdown",
      "source": [
        "### Извлечение текста в виде функции"
      ],
      "metadata": {
        "id": "xuPebjymN5J0"
      }
    },
    {
      "cell_type": "code",
      "source": [
        "def extract_text_from_pdf_or_image(pdf_path):\n",
        "    \"\"\"\n",
        "    Функция для извлечения текста из PDF-файла или изображения (JPG/PNG).\n",
        "    Возвращает распознанный текст в виде строки.\n",
        "    \"\"\"\n",
        "    # Проверяем расширение файла\n",
        "    extension = get_file_extension(pdf_path)\n",
        "\n",
        "        # Обработка изображений\n",
        "    if extension in ['.jpg', '.jpeg', '.png']:\n",
        "        return image_to_text(pdf_path)\n",
        "\n",
        "    # Создать объект файла PDF\n",
        "    pdfFileObj = open(pdf_path, 'rb')\n",
        "    # Создать объект для чтения PDF\n",
        "    pdfReaded = PyPDF2.PdfReader(pdfFileObj)\n",
        "\n",
        "    # Создать словарь для извлечения текста из каждого изображения\n",
        "    text_per_page = {}\n",
        "    # Создать булеву переменную для обнаружения изображений\n",
        "    image_flag = False\n",
        "\n",
        "    # Извлекаем страницы из PDF\n",
        "    for pagenum, page in enumerate(extract_pages(pdf_path)):\n",
        "        # Инициализируем переменные, необходимые для извлечения текста со страницы\n",
        "        pageObj = pdfReaded.pages[pagenum]\n",
        "        page_text = []\n",
        "        line_format = []\n",
        "        text_from_images = []\n",
        "        text_from_tables = []\n",
        "        page_content = []\n",
        "        # Инициализируем номер рассматриваемых таблиц\n",
        "        table_in_page = -1\n",
        "        # Открываем PDF файл\n",
        "        pdf = pdfplumber.open(pdf_path)\n",
        "        # Находим рассматриваемую страницу\n",
        "        page_tables = pdf.pages[pagenum]\n",
        "        # Находим количество таблиц на странице\n",
        "        tables = page_tables.find_tables()\n",
        "        if len(tables) != 0:\n",
        "            table_in_page = 0\n",
        "\n",
        "        # Извлечение таблиц со страницы\n",
        "        for table_num in range(len(tables)):\n",
        "            # Извлекаем информацию о таблице\n",
        "            table = extract_table(pdf_path, pagenum, table_num)\n",
        "            # Преобразуем информацию о таблице в структурированный строковый формат\n",
        "            table_string = table_converter(table)\n",
        "            # Добавляем строку таблицы в список\n",
        "            text_from_tables.append(table_string)\n",
        "\n",
        "        # Находим все элементы\n",
        "        page_elements = [(element.y1, element) for element in page._objs]\n",
        "        # Сортируем все элементы так, как они появляются на странице\n",
        "        page_elements.sort(key=lambda a: a[0], reverse=True)\n",
        "\n",
        "        # Находим элементы, которые составляют страницу\n",
        "        for i, component in enumerate(page_elements):\n",
        "            # Извлекаем элемент макета страницы\n",
        "            element = component[1]\n",
        "\n",
        "            # Проверяем элементы на наличие таблиц\n",
        "            if table_in_page == -1:\n",
        "                pass\n",
        "            else:\n",
        "                if is_element_inside_any_table(element, page, tables):\n",
        "                    table_found = find_table_for_element(element, page, tables)\n",
        "                    if table_found == table_in_page and table_found is not None:\n",
        "                        page_content.append(text_from_tables[table_in_page])\n",
        "                        page_text.append('table')\n",
        "                        line_format.append('table')\n",
        "                        table_in_page += 1\n",
        "                    # Пропускаем эту итерацию, так как содержимое этого элемента было извлечено из таблиц\n",
        "                    continue\n",
        "\n",
        "            if not is_element_inside_any_table(element, page, tables):\n",
        "                # Проверяем, является ли элемент текстовым элементом\n",
        "                if isinstance(element, LTTextContainer):\n",
        "                    # Используем функцию для извлечения текста и формата для каждого текстового элемента\n",
        "                    (line_text, format_per_line) = text_extraction(element)\n",
        "                    # Добавляем текст каждой строки к тексту страницы\n",
        "                    page_text.append(line_text)\n",
        "                    # Добавляем формат для каждой строки с текстом\n",
        "                    line_format.append(format_per_line)\n",
        "                    page_content.append(line_text)\n",
        "\n",
        "                # Проверяем элементы на наличие изображений\n",
        "                if isinstance(element, LTFigure):\n",
        "                    # Обрезаем изображение из PDF\n",
        "                    crop_image(element, pageObj)\n",
        "                    # Конвертируем обрезанный PDF в изображение\n",
        "                    convert_to_images('cropped_image.pdf')\n",
        "                    # Извлекаем текст из изображения\n",
        "                    image_text = image_to_text('PDF_image.png')\n",
        "                    text_from_images.append(image_text)\n",
        "                    page_content.append(image_text)\n",
        "                    # Добавляем заполнитель в списки текста и формата\n",
        "                    page_text.append('image')\n",
        "                    line_format.append('image')\n",
        "                    # Обновляем флаг для обнаружения изображений\n",
        "                    image_flag = True\n",
        "\n",
        "        # Создаем ключ словаря\n",
        "        dctkey = 'Page_' + str(pagenum)\n",
        "        # Добавляем список списков в качестве значения по ключу страницы\n",
        "        text_per_page[dctkey] = [page_text, line_format, text_from_images, text_from_tables, page_content]\n",
        "\n",
        "    # Закроем объект пдф\n",
        "    pdfFileObj.close()\n",
        "\n",
        "    # Удаляем дополнительные файлы, созданные при обнаружении изображения\n",
        "    if image_flag:\n",
        "        os.remove('cropped_image.pdf')\n",
        "        os.remove('PDF_image.png')\n",
        "\n",
        "    # Объединяем текст со всех страниц\n",
        "    result = ''\n",
        "    for page_key in text_per_page:\n",
        "        result += ''.join(text_per_page[page_key][4])\n",
        "\n",
        "    return result"
      ],
      "metadata": {
        "id": "eGDgOOavMwc-"
      },
      "execution_count": 8,
      "outputs": []
    },
    {
      "cell_type": "markdown",
      "source": [
        "### Вызов функции"
      ],
      "metadata": {
        "id": "pOppLfS_e5Gk"
      }
    },
    {
      "cell_type": "code",
      "source": [
        "# Путь к файлу (PDF, JPG или PNG)\n",
        "file_path = '/content/drive/MyDrive/Colab_Notebooks/kidshealth/data/Анализ кровь_page-0001.jpg'\n",
        "\n",
        "# Извлечение текста\n",
        "extracted_text = extract_text_from_pdf_or_image(file_path)\n",
        "\n",
        "# Сохранение текста в файл .txt\n",
        "with open('output.txt', 'w', encoding='utf-8') as f:\n",
        "    f.write(extracted_text)\n",
        "\n",
        "print(\"Текст успешно извлечен и сохранен в output.txt\")"
      ],
      "metadata": {
        "colab": {
          "base_uri": "https://localhost:8080/"
        },
        "id": "1kdiDwLSVJZL",
        "outputId": "445eeafa-2a49-4fa9-9eb9-ae48fa9c892a"
      },
      "execution_count": 9,
      "outputs": [
        {
          "output_type": "stream",
          "name": "stdout",
          "text": [
            "Текст успешно извлечен и сохранен в output.txt\n"
          ]
        }
      ]
    },
    {
      "cell_type": "code",
      "source": [
        "print(extracted_text)"
      ],
      "metadata": {
        "colab": {
          "base_uri": "https://localhost:8080/"
        },
        "id": "fQr0RzHUVQAo",
        "outputId": "99cfe27f-6895-4331-8b90-8e9549640cee"
      },
      "execution_count": 10,
      "outputs": [
        {
          "output_type": "stream",
          "name": "stdout",
          "text": [
            "ЗИ,\n",
            "\n",
            "RY,\n",
            "\n",
            "НАЦИОНАЛЬНОЕ АГЕНТСТВО Соответствует международному Заемех (( DAKkS\n",
            "КЛИНИЧЕСКОЙ ФАРМАКОЛОГИИ стандарту DIN-EN ISO 15189:2014 LSS Deutsche\n",
            "И ФАРМАЦИИ ahi Akkreditierungsstelle\n",
            "\n",
            "D-ML-19319-01-00\n",
            "\n",
            "Результат исследования № 0026464963 от 19.11.2023\n",
            "\n",
            "ЛПУ: 3300 ”Детство плюс”\n",
            "124482, г. Москва, Зеленоград, Савелкинский пр-д, д.4\n",
            "\n",
            " \n",
            "\n",
            " \n",
            "\n",
            " \n",
            "\n",
            " \n",
            "\n",
            " \n",
            "\n",
            " \n",
            "\n",
            " \n",
            "\n",
            " \n",
            "\n",
            " \n",
            "\n",
            " \n",
            "\n",
            " \n",
            "\n",
            " \n",
            "\n",
            " \n",
            "\n",
            " \n",
            "\n",
            " \n",
            "\n",
            " \n",
            "\n",
            " \n",
            "\n",
            " \n",
            "\n",
            " \n",
            "\n",
            " \n",
            "\n",
            " \n",
            "\n",
            " \n",
            "\n",
            " \n",
            "\n",
            " \n",
            "\n",
            " \n",
            "\n",
            " \n",
            "\n",
            " \n",
            "\n",
            " \n",
            "\n",
            " \n",
            "\n",
            " \n",
            "\n",
            " \n",
            "\n",
            " \n",
            "\n",
            "Пациент: ИВАНОВА ДАРЬЯ ИЛЬИНИЧНА Организация:\n",
            "Дата рождения: 24.07.2018 Отделение:\n",
            "Пол: Ж Врач/№ карты:\n",
            "Дата регистрации: 19.11.2023 Страховая компания:\n",
            "Дата взятия биоматериала: 19.11.2023 № страхового полиса:\n",
            "Биоматериал: КАПИЛЛЯРНАЯ КРОВЬ ЭДТА\n",
            "Единицы\n",
            "Исследование Результат Референсные значения\n",
            "измерения\n",
            "Лейкоцитарная формула (капиллярная кровь)\n",
            "Палочкоядерные нейтрофилы 1 /% 0-5\n",
            "Сегментоядерные нейтрофилы 48 /% 22,4-69,0\n",
            "Эозинофилы 2 /% 0,0-3,3\n",
            "Базофилы 0 /% 0,0-0,6\n",
            "Моноциты 8 /% 4,1-11,4\n",
            "Лимфоциты 41 /% 18,1-68,6\n",
            "Общий анализ крови (капиллярная кровь)\n",
            "Гемоглобин 129 г/л 116,1 — 145,7\n",
            "Эритроциты 4,22 1012/л 4,22 - 5,13\n",
            "Средний объем эритроцитов 87,8 фл 77,9 — 90,5\n",
            "Среднее содержание НЬ в эритроците 30,6х 1 mr 25,6 — 29,5\n",
            "Средняя концентрация НЬ в эритроците 348х 1 г/л 321 - 343\n",
            "Распределение эритроцитов по объему 13,5 /% 12,6 — 15,4\n",
            "Гематокрит 37,1 /% 34,9 — 43,7\n",
            "Тромбоциты 283 109/л 206,4 — 434,3\n",
            "Средний объем тромбоцитов 8,4 фл 7,16 — 10,8\n",
            "Распределение тромбоцитов по объему 18,5 фл 16,7 — 21,6\n",
            "Тромбокрит 0,237 /% 0,177 — 0,335\n",
            "Лейкоциты 6.7 109/л 4,17 — 10,17\n",
            "Нейтрофилы 48,1 /% 29,63 — 69,89\n",
            "Эозинофилы 2,0 /% 0,65 — 9,08\n",
            "Базофилы 0,2 /% 0,07 — 0,51\n",
            "Моноциты 8,2 /% 3,52 — 10,62\n",
            "Лимфоциты 41,5 /% 23,72 — 58,97\n",
            "Нейтрофилы абс. к-во 3,20 109/л 1,47 — 6,28\n",
            "Эозинофилы абс. к-во 0,13 109/л 0,05 — 0,74\n",
            "Базофилы абс. к-во 0,02 109/л 0,01 - 0,05\n",
            "Моноциты абс. к-во 0,55 109/л 0,2 — 0,75\n",
            "Лимфоциты абс. к-во 2,76 109/л 1,36 - 3,81\n",
            "СОЭ (автоматизированный метод)2^**8 5 мм/ч 1-10\n",
            "Комментарии:\n",
            "\n",
            "Исследования проводил: Моругина К.И\n",
            "Выпускающий врач: Моругина К.И\n",
            "Дата выдачи: 19.11.2023\n",
            "\n",
            " \n",
            "\n",
            "Страница 1 из 1 № 0026464963 Результат лабораторного исследования НЕ ЯВЛЯЕТСЯ ДИАГНОЗОМ. Лицензия № Л041-01137-77/00370044 Адрес: 115088, г. Москва, ул. Угрешская, д. 2, стр. 8. \\\\\\\\.пасрр.га\n",
            "DAkkS исследование включено в область немецкой аккредитации РАКК$. Результаты принимаются в странах подписантах П.АС (Международное сотрудничество по аккредитации).\n",
            "\f\n"
          ]
        }
      ]
    },
    {
      "cell_type": "code",
      "source": [
        "!pip install fastapi uvicorn nest-asyncio -q"
      ],
      "metadata": {
        "colab": {
          "base_uri": "https://localhost:8080/"
        },
        "id": "uiB5X98EClFS",
        "outputId": "470c3117-6e12-4e6f-8ebb-e8747964021a"
      },
      "execution_count": 11,
      "outputs": [
        {
          "output_type": "stream",
          "name": "stdout",
          "text": [
            "\u001b[?25l   \u001b[90m━━━━━━━━━━━━━━━━━━━━━━━━━━━━━━━━━━━━━━━━\u001b[0m \u001b[32m0.0/94.8 kB\u001b[0m \u001b[31m?\u001b[0m eta \u001b[36m-:--:--\u001b[0m\r\u001b[2K   \u001b[90m━━━━━━━━━━━━━━━━━━━━━━━━━━━━━━━━━━━━━━━━\u001b[0m \u001b[32m94.8/94.8 kB\u001b[0m \u001b[31m4.1 MB/s\u001b[0m eta \u001b[36m0:00:00\u001b[0m\n",
            "\u001b[?25h\u001b[?25l   \u001b[90m━━━━━━━━━━━━━━━━━━━━━━━━━━━━━━━━━━━━━━━━\u001b[0m \u001b[32m0.0/62.3 kB\u001b[0m \u001b[31m?\u001b[0m eta \u001b[36m-:--:--\u001b[0m\r\u001b[2K   \u001b[90m━━━━━━━━━━━━━━━━━━━━━━━━━━━━━━━━━━━━━━━━\u001b[0m \u001b[32m62.3/62.3 kB\u001b[0m \u001b[31m3.2 MB/s\u001b[0m eta \u001b[36m0:00:00\u001b[0m\n",
            "\u001b[?25h\u001b[?25l   \u001b[90m━━━━━━━━━━━━━━━━━━━━━━━━━━━━━━━━━━━━━━━━\u001b[0m \u001b[32m0.0/71.5 kB\u001b[0m \u001b[31m?\u001b[0m eta \u001b[36m-:--:--\u001b[0m\r\u001b[2K   \u001b[90m━━━━━━━━━━━━━━━━━━━━━━━━━━━━━━━━━━━━━━━━\u001b[0m \u001b[32m71.5/71.5 kB\u001b[0m \u001b[31m5.3 MB/s\u001b[0m eta \u001b[36m0:00:00\u001b[0m\n",
            "\u001b[?25h"
          ]
        }
      ]
    },
    {
      "cell_type": "code",
      "source": [
        "!pip install python-multipart -q"
      ],
      "metadata": {
        "id": "d-0VIlcoCtJz"
      },
      "execution_count": 13,
      "outputs": []
    },
    {
      "cell_type": "code",
      "source": [
        "!pip install pyngrok"
      ],
      "metadata": {
        "colab": {
          "base_uri": "https://localhost:8080/"
        },
        "id": "QjES4xg0CzOS",
        "outputId": "6acc6534-f060-418f-daba-47f21447683d"
      },
      "execution_count": 16,
      "outputs": [
        {
          "output_type": "stream",
          "name": "stdout",
          "text": [
            "Collecting pyngrok\n",
            "  Downloading pyngrok-7.2.3-py3-none-any.whl.metadata (8.7 kB)\n",
            "Requirement already satisfied: PyYAML>=5.1 in /usr/local/lib/python3.11/dist-packages (from pyngrok) (6.0.2)\n",
            "Downloading pyngrok-7.2.3-py3-none-any.whl (23 kB)\n",
            "Installing collected packages: pyngrok\n",
            "Successfully installed pyngrok-7.2.3\n"
          ]
        }
      ]
    },
    {
      "cell_type": "code",
      "source": [
        "from fastapi import FastAPI, File, UploadFile\n",
        "from fastapi.responses import JSONResponse\n",
        "import os\n",
        "#from your_module import extract_text_from_pdf_or_image  # Ваша функция\n",
        "\n",
        "app = FastAPI()\n",
        "\n",
        "# Временная папка для загруженных файлов\n",
        "UPLOAD_DIR = \"uploads\"\n",
        "os.makedirs(UPLOAD_DIR, exist_ok=True)\n",
        "\n",
        "@app.post(\"/extract-text/\")\n",
        "async def extract_text(file: UploadFile = File(...)):\n",
        "    try:\n",
        "        # Сохраняем загруженный файл\n",
        "        file_path = os.path.join(UPLOAD_DIR, file.filename)\n",
        "        with open(file_path, \"wb\") as f:\n",
        "            f.write(await file.read())\n",
        "\n",
        "        # Извлекаем текст\n",
        "        extracted_text = extract_text_from_pdf_or_image(file_path)\n",
        "\n",
        "        # Удаляем временный файл\n",
        "        os.remove(file_path)\n",
        "\n",
        "        return JSONResponse(content={\"text\": extracted_text})\n",
        "\n",
        "    except Exception as e:\n",
        "        return JSONResponse(status_code=500, content={\"error\": str(e)})"
      ],
      "metadata": {
        "id": "fy63Kj4KCfM5"
      },
      "execution_count": 17,
      "outputs": []
    },
    {
      "cell_type": "code",
      "source": [
        "from pyngrok import ngrok\n",
        "import nest_asyncio\n",
        "import uvicorn\n",
        "\n",
        "# Запуск Uvicorn\n",
        "nest_asyncio.apply()\n",
        "uvicorn.run(app, port=8000)\n",
        "\n",
        "# Создание туннеля с помощью ngrok\n",
        "public_url = ngrok.connect(8000).public_url\n",
        "print(f\"Public URL: {public_url}\")"
      ],
      "metadata": {
        "colab": {
          "base_uri": "https://localhost:8080/",
          "height": 584
        },
        "id": "yewVybbvCwbh",
        "outputId": "59b13460-276f-4c62-941f-96fc040baca9"
      },
      "execution_count": 18,
      "outputs": [
        {
          "output_type": "stream",
          "name": "stderr",
          "text": [
            "INFO:     Started server process [1723]\n",
            "INFO:     Waiting for application startup.\n",
            "INFO:     Application startup complete.\n",
            "INFO:     Uvicorn running on http://127.0.0.1:8000 (Press CTRL+C to quit)\n",
            "INFO:     Shutting down\n",
            "INFO:     Waiting for application shutdown.\n",
            "INFO:     Application shutdown complete.\n",
            "INFO:     Finished server process [1723]\n"
          ]
        },
        {
          "output_type": "stream",
          "name": "stdout",
          "text": []
        },
        {
          "output_type": "stream",
          "name": "stderr",
          "text": [
            "ERROR:pyngrok.process.ngrok:t=2025-02-12T12:04:34+0000 lvl=eror msg=\"failed to reconnect session\" obj=tunnels.session err=\"authentication failed: Usage of ngrok requires a verified account and authtoken.\\n\\nSign up for an account: https://dashboard.ngrok.com/signup\\nInstall your authtoken: https://dashboard.ngrok.com/get-started/your-authtoken\\r\\n\\r\\nERR_NGROK_4018\\r\\n\"\n",
            "ERROR:pyngrok.process.ngrok:t=2025-02-12T12:04:34+0000 lvl=eror msg=\"session closing\" obj=tunnels.session err=\"authentication failed: Usage of ngrok requires a verified account and authtoken.\\n\\nSign up for an account: https://dashboard.ngrok.com/signup\\nInstall your authtoken: https://dashboard.ngrok.com/get-started/your-authtoken\\r\\n\\r\\nERR_NGROK_4018\\r\\n\"\n",
            "ERROR:pyngrok.process.ngrok:t=2025-02-12T12:04:34+0000 lvl=eror msg=\"terminating with error\" obj=app err=\"authentication failed: Usage of ngrok requires a verified account and authtoken.\\n\\nSign up for an account: https://dashboard.ngrok.com/signup\\nInstall your authtoken: https://dashboard.ngrok.com/get-started/your-authtoken\\r\\n\\r\\nERR_NGROK_4018\\r\\n\"\n",
            "CRITICAL:pyngrok.process.ngrok:t=2025-02-12T12:04:34+0000 lvl=crit msg=\"command failed\" err=\"authentication failed: Usage of ngrok requires a verified account and authtoken.\\n\\nSign up for an account: https://dashboard.ngrok.com/signup\\nInstall your authtoken: https://dashboard.ngrok.com/get-started/your-authtoken\\r\\n\\r\\nERR_NGROK_4018\\r\\n\"\n"
          ]
        },
        {
          "output_type": "error",
          "ename": "PyngrokNgrokError",
          "evalue": "The ngrok process errored on start: authentication failed: Usage of ngrok requires a verified account and authtoken.\\n\\nSign up for an account: https://dashboard.ngrok.com/signup\\nInstall your authtoken: https://dashboard.ngrok.com/get-started/your-authtoken\\r\\n\\r\\nERR_NGROK_4018\\r\\n.",
          "traceback": [
            "\u001b[0;31m---------------------------------------------------------------------------\u001b[0m",
            "\u001b[0;31mPyngrokNgrokError\u001b[0m                         Traceback (most recent call last)",
            "\u001b[0;32m<ipython-input-18-52929f4506d8>\u001b[0m in \u001b[0;36m<cell line: 0>\u001b[0;34m()\u001b[0m\n\u001b[1;32m      8\u001b[0m \u001b[0;34m\u001b[0m\u001b[0m\n\u001b[1;32m      9\u001b[0m \u001b[0;31m# Создание туннеля с помощью ngrok\u001b[0m\u001b[0;34m\u001b[0m\u001b[0;34m\u001b[0m\u001b[0m\n\u001b[0;32m---> 10\u001b[0;31m \u001b[0mpublic_url\u001b[0m \u001b[0;34m=\u001b[0m \u001b[0mngrok\u001b[0m\u001b[0;34m.\u001b[0m\u001b[0mconnect\u001b[0m\u001b[0;34m(\u001b[0m\u001b[0;36m8000\u001b[0m\u001b[0;34m)\u001b[0m\u001b[0;34m.\u001b[0m\u001b[0mpublic_url\u001b[0m\u001b[0;34m\u001b[0m\u001b[0;34m\u001b[0m\u001b[0m\n\u001b[0m\u001b[1;32m     11\u001b[0m \u001b[0mprint\u001b[0m\u001b[0;34m(\u001b[0m\u001b[0;34mf\"Public URL: {public_url}\"\u001b[0m\u001b[0;34m)\u001b[0m\u001b[0;34m\u001b[0m\u001b[0;34m\u001b[0m\u001b[0m\n",
            "\u001b[0;32m/usr/local/lib/python3.11/dist-packages/pyngrok/ngrok.py\u001b[0m in \u001b[0;36mconnect\u001b[0;34m(addr, proto, name, pyngrok_config, **options)\u001b[0m\n\u001b[1;32m    349\u001b[0m     \u001b[0mlogger\u001b[0m\u001b[0;34m.\u001b[0m\u001b[0minfo\u001b[0m\u001b[0;34m(\u001b[0m\u001b[0;34mf\"Opening tunnel named: {name}\"\u001b[0m\u001b[0;34m)\u001b[0m\u001b[0;34m\u001b[0m\u001b[0;34m\u001b[0m\u001b[0m\n\u001b[1;32m    350\u001b[0m \u001b[0;34m\u001b[0m\u001b[0m\n\u001b[0;32m--> 351\u001b[0;31m     \u001b[0mapi_url\u001b[0m \u001b[0;34m=\u001b[0m \u001b[0mget_ngrok_process\u001b[0m\u001b[0;34m(\u001b[0m\u001b[0mpyngrok_config\u001b[0m\u001b[0;34m)\u001b[0m\u001b[0;34m.\u001b[0m\u001b[0mapi_url\u001b[0m\u001b[0;34m\u001b[0m\u001b[0;34m\u001b[0m\u001b[0m\n\u001b[0m\u001b[1;32m    352\u001b[0m \u001b[0;34m\u001b[0m\u001b[0m\n\u001b[1;32m    353\u001b[0m     \u001b[0mlogger\u001b[0m\u001b[0;34m.\u001b[0m\u001b[0mdebug\u001b[0m\u001b[0;34m(\u001b[0m\u001b[0;34mf\"Creating tunnel with options: {options}\"\u001b[0m\u001b[0;34m)\u001b[0m\u001b[0;34m\u001b[0m\u001b[0;34m\u001b[0m\u001b[0m\n",
            "\u001b[0;32m/usr/local/lib/python3.11/dist-packages/pyngrok/ngrok.py\u001b[0m in \u001b[0;36mget_ngrok_process\u001b[0;34m(pyngrok_config)\u001b[0m\n\u001b[1;32m    174\u001b[0m     \u001b[0minstall_ngrok\u001b[0m\u001b[0;34m(\u001b[0m\u001b[0mpyngrok_config\u001b[0m\u001b[0;34m)\u001b[0m\u001b[0;34m\u001b[0m\u001b[0;34m\u001b[0m\u001b[0m\n\u001b[1;32m    175\u001b[0m \u001b[0;34m\u001b[0m\u001b[0m\n\u001b[0;32m--> 176\u001b[0;31m     \u001b[0;32mreturn\u001b[0m \u001b[0mprocess\u001b[0m\u001b[0;34m.\u001b[0m\u001b[0mget_process\u001b[0m\u001b[0;34m(\u001b[0m\u001b[0mpyngrok_config\u001b[0m\u001b[0;34m)\u001b[0m\u001b[0;34m\u001b[0m\u001b[0;34m\u001b[0m\u001b[0m\n\u001b[0m\u001b[1;32m    177\u001b[0m \u001b[0;34m\u001b[0m\u001b[0m\n\u001b[1;32m    178\u001b[0m \u001b[0;34m\u001b[0m\u001b[0m\n",
            "\u001b[0;32m/usr/local/lib/python3.11/dist-packages/pyngrok/process.py\u001b[0m in \u001b[0;36mget_process\u001b[0;34m(pyngrok_config)\u001b[0m\n\u001b[1;32m    263\u001b[0m         \u001b[0;32mreturn\u001b[0m \u001b[0m_current_processes\u001b[0m\u001b[0;34m[\u001b[0m\u001b[0mpyngrok_config\u001b[0m\u001b[0;34m.\u001b[0m\u001b[0mngrok_path\u001b[0m\u001b[0;34m]\u001b[0m\u001b[0;34m\u001b[0m\u001b[0;34m\u001b[0m\u001b[0m\n\u001b[1;32m    264\u001b[0m \u001b[0;34m\u001b[0m\u001b[0m\n\u001b[0;32m--> 265\u001b[0;31m     \u001b[0;32mreturn\u001b[0m \u001b[0m_start_process\u001b[0m\u001b[0;34m(\u001b[0m\u001b[0mpyngrok_config\u001b[0m\u001b[0;34m)\u001b[0m\u001b[0;34m\u001b[0m\u001b[0;34m\u001b[0m\u001b[0m\n\u001b[0m\u001b[1;32m    266\u001b[0m \u001b[0;34m\u001b[0m\u001b[0m\n\u001b[1;32m    267\u001b[0m \u001b[0;34m\u001b[0m\u001b[0m\n",
            "\u001b[0;32m/usr/local/lib/python3.11/dist-packages/pyngrok/process.py\u001b[0m in \u001b[0;36m_start_process\u001b[0;34m(pyngrok_config)\u001b[0m\n\u001b[1;32m    426\u001b[0m \u001b[0;34m\u001b[0m\u001b[0m\n\u001b[1;32m    427\u001b[0m         \u001b[0;32mif\u001b[0m \u001b[0mngrok_process\u001b[0m\u001b[0;34m.\u001b[0m\u001b[0mstartup_error\u001b[0m \u001b[0;32mis\u001b[0m \u001b[0;32mnot\u001b[0m \u001b[0;32mNone\u001b[0m\u001b[0;34m:\u001b[0m\u001b[0;34m\u001b[0m\u001b[0;34m\u001b[0m\u001b[0m\n\u001b[0;32m--> 428\u001b[0;31m             raise PyngrokNgrokError(f\"The ngrok process errored on start: {ngrok_process.startup_error}.\",\n\u001b[0m\u001b[1;32m    429\u001b[0m                                     \u001b[0mngrok_process\u001b[0m\u001b[0;34m.\u001b[0m\u001b[0mlogs\u001b[0m\u001b[0;34m,\u001b[0m\u001b[0;34m\u001b[0m\u001b[0;34m\u001b[0m\u001b[0m\n\u001b[1;32m    430\u001b[0m                                     ngrok_process.startup_error)\n",
            "\u001b[0;31mPyngrokNgrokError\u001b[0m: The ngrok process errored on start: authentication failed: Usage of ngrok requires a verified account and authtoken.\\n\\nSign up for an account: https://dashboard.ngrok.com/signup\\nInstall your authtoken: https://dashboard.ngrok.com/get-started/your-authtoken\\r\\n\\r\\nERR_NGROK_4018\\r\\n."
          ]
        }
      ]
    }
  ],
  "metadata": {
    "kernelspec": {
      "display_name": "NLP_env",
      "language": "python",
      "name": "python3"
    },
    "language_info": {
      "codemirror_mode": {
        "name": "ipython",
        "version": 3
      },
      "file_extension": ".py",
      "mimetype": "text/x-python",
      "name": "python",
      "nbconvert_exporter": "python",
      "pygments_lexer": "ipython3",
      "version": "3.9.12"
    },
    "orig_nbformat": 4,
    "vscode": {
      "interpreter": {
        "hash": "18e1f6b75012c804af28ad83a5c9691a3f91030522fe6d37827743bbd4743ddd"
      }
    },
    "colab": {
      "provenance": []
    }
  },
  "nbformat": 4,
  "nbformat_minor": 0
}