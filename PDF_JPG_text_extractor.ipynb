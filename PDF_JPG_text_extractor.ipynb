{
  "cells": [
    {
      "cell_type": "markdown",
      "metadata": {
        "id": "Ds8Si4CSuTEC"
      },
      "source": [
        "# Распознавание текста с pdf и jpg/png"
      ]
    },
    {
      "cell_type": "markdown",
      "metadata": {
        "id": "3MGzqrnBvSm2"
      },
      "source": [
        "## Пошаговая реализация\n",
        "\n",
        "Изображения автоматически конвертируются в ПДФ\n",
        "\n",
        "Целевая ОС ubuntu"
      ]
    },
    {
      "cell_type": "markdown",
      "metadata": {
        "id": "a89CgrxGzvEv"
      },
      "source": [
        "### Установка пакетов"
      ]
    },
    {
      "cell_type": "code",
      "execution_count": 2,
      "metadata": {
        "colab": {
          "base_uri": "https://localhost:8080/"
        },
        "id": "jweF6bBWqHh-",
        "outputId": "d77c6c42-e40c-4341-8cfb-b32ed938576f"
      },
      "outputs": [],
      "source": [
        "#!apt-get install -y python3-pil tesseract-ocr libtesseract-dev tesseract-ocr-eng tesseract-ocr-rus tesseract-ocr-script-latn poppler-utils -q"
      ]
    },
    {
      "cell_type": "code",
      "execution_count": 3,
      "metadata": {
        "colab": {
          "base_uri": "https://localhost:8080/"
        },
        "id": "7sgR5drcuXpk",
        "outputId": "28a23f76-29ae-4544-a31a-05e043c642e1"
      },
      "outputs": [],
      "source": [
        "#!pip install PyPDF2==3.0.1 pdfminer.six==20221105 pdfplumber==0.10.2 Pillow==10.1.0 pdf2image==1.16.3 pytesseract==0.3.10 -q"
      ]
    },
    {
      "cell_type": "markdown",
      "metadata": {
        "id": "tXtSq9twz1Bz"
      },
      "source": [
        "### Подключение библиотек"
      ]
    },
    {
      "cell_type": "code",
      "execution_count": 4,
      "metadata": {
        "colab": {
          "base_uri": "https://localhost:8080/"
        },
        "id": "XttUj5j4qONf",
        "outputId": "d3db857e-2ee2-497c-ac7c-cf85f8e4ddda"
      },
      "outputs": [],
      "source": [
        "#from google.colab import drive\n",
        "#drive.mount('/content/drive')"
      ]
    },
    {
      "cell_type": "code",
      "execution_count": 5,
      "metadata": {
        "id": "Twx2QKCNuTEG"
      },
      "outputs": [],
      "source": [
        "# Для чтения PDF\n",
        "import PyPDF2\n",
        "# Для анализа структуры PDF и извлечения текста\n",
        "from pdfminer.high_level import extract_pages, extract_text\n",
        "from pdfminer.layout import LTTextContainer, LTChar, LTRect, LTFigure\n",
        "# Для извлечения текста из таблиц в PDF\n",
        "import pdfplumber\n",
        "# Для извлечения изображений из PDF\n",
        "from PIL import Image\n",
        "from pdf2image import convert_from_path\n",
        "# Для выполнения OCR для извлечения текста из изображений\n",
        "import pytesseract\n",
        "# Для удаления дополнительных созданных файлов\n",
        "import os"
      ]
    },
    {
      "cell_type": "markdown",
      "metadata": {
        "id": "NtCD_6Rw0KJn"
      },
      "source": [
        "### Функция извлечения текста"
      ]
    },
    {
      "cell_type": "code",
      "execution_count": 6,
      "metadata": {
        "id": "48F2BTjSuTEH"
      },
      "outputs": [],
      "source": [
        "# Создание функции для извлечения текста\n",
        "\n",
        "def text_extraction(element):\n",
        "    # Извлечение текста из элемента встроенного текста\n",
        "    line_text = element.get_text()\n",
        "\n",
        "    # Поиск форматов текста\n",
        "    # Инициализация списка со всеми форматами, появившимися в строке текста\n",
        "    line_formats = []\n",
        "    for text_line in element:\n",
        "        if isinstance(text_line, LTTextContainer):\n",
        "            # Итерация по каждому символу в строке текста\n",
        "            for character in text_line:\n",
        "                if isinstance(character, LTChar):\n",
        "                    # Добавление имени шрифта символа\n",
        "                    line_formats.append(character.fontname)\n",
        "                    # Добавление размера шрифта символа\n",
        "                    line_formats.append(character.size)\n",
        "    # Поиск уникальных размеров шрифтов и названий в строке\n",
        "    format_per_line = list(set(line_formats))\n",
        "\n",
        "    # Возврат кортежа с текстом в каждой строке вместе с его форматом\n",
        "    return (line_text, format_per_line)"
      ]
    },
    {
      "cell_type": "markdown",
      "metadata": {
        "id": "SVMVt1ID0YBP"
      },
      "source": [
        "### Извлечение таблиц со страницы"
      ]
    },
    {
      "cell_type": "code",
      "execution_count": 7,
      "metadata": {
        "id": "bFakEHeWuTEJ"
      },
      "outputs": [],
      "source": [
        "# Извлечение таблиц со страницы\n",
        "\n",
        "def extract_table(pdf_path, page_num, table_num):\n",
        "    # Открытие PDF файла\n",
        "    pdf = pdfplumber.open(pdf_path)\n",
        "    # Поиск рассматриваемой страницы\n",
        "    table_page = pdf.pages[page_num]\n",
        "    # Извлечение соответствующей таблицы\n",
        "    table = table_page.extract_tables()[table_num]\n",
        "\n",
        "    return table\n",
        "\n",
        "# Преобразование таблицы в соответствующий формат\n",
        "def table_converter(table):\n",
        "    table_string = ''\n",
        "    # Итерация по каждой строке таблицы\n",
        "    for row_num in range(len(table)):\n",
        "        row = table[row_num]\n",
        "        # Удаление переносов строк из обернутых текстов\n",
        "        cleaned_row = [item.replace('\\n', ' ') if item is not None and '\\n' in item else 'None' if item is None else item for item in row]\n",
        "        # Преобразование таблицы в строку\n",
        "        table_string += ('|' + '|'.join(cleaned_row) + '|' + '\\n')\n",
        "    # Удаление последнего переноса строки\n",
        "    table_string = table_string[:-1]\n",
        "    return table_string\n",
        "\n",
        "# Создание функции для проверки, находится ли элемент в какой-либо таблице на странице\n",
        "def is_element_inside_any_table(element, page, tables):\n",
        "    x0, y0up, x1, y1up = element.bbox\n",
        "    # Изменение координат, так как pdfminer считает от низа к верху страницы\n",
        "    y0 = page.bbox[3] - y1up\n",
        "    y1 = page.bbox[3] - y0up\n",
        "    for table in tables:\n",
        "        tx0, ty0, tx1, ty1 = table.bbox\n",
        "        if tx0 <= x0 <= x1 <= tx1 and ty0 <= y0 <= y1 <= ty1:\n",
        "            return True\n",
        "    return False\n",
        "\n",
        "# Функция для поиска таблицы для данного элемента\n",
        "def find_table_for_element(element, page, tables):\n",
        "    x0, y0up, x1, y1up = element.bbox\n",
        "    # Изменение координат, так как pdfminer считает от низа к верху страницы\n",
        "    y0 = page.bbox[3] - y1up\n",
        "    y1 = page.bbox[3] - y0up\n",
        "    for i, table in enumerate(tables):\n",
        "        tx0, ty0, tx1, ty1 = table.bbox\n",
        "        if tx0 <= x0 <= x1 <= tx1 and ty0 <= y0 <= y1 <= ty1:\n",
        "            return i  # Возвращаем индекс таблицы\n",
        "    return None"
      ]
    },
    {
      "cell_type": "markdown",
      "metadata": {
        "id": "RJSEiQZb0gtO"
      },
      "source": [
        "### Функция обрезки элементов изображений из pdf"
      ]
    },
    {
      "cell_type": "code",
      "execution_count": 8,
      "metadata": {
        "id": "rnOMe_bcuTEL"
      },
      "outputs": [],
      "source": [
        "# Создание функции для обрезки элементов изображений из PDF\n",
        "def crop_image(element, pageObj):\n",
        "    # Получение координат для обрезки изображения из PDF\n",
        "    [image_left, image_top, image_right, image_bottom] = [element.x0, element.y0, element.x1, element.y1]\n",
        "    # Обрезка страницы с использованием координат (левый, нижний, правый, верхний)\n",
        "    pageObj.mediabox.lower_left = (image_left, image_bottom)\n",
        "    pageObj.mediabox.upper_right = (image_right, image_top)\n",
        "    # Сохранение обрезанной страницы в новый PDF\n",
        "    cropped_pdf_writer = PyPDF2.PdfWriter()\n",
        "    cropped_pdf_writer.add_page(pageObj)\n",
        "    # Сохранение обрезанного PDF в новый файл\n",
        "    with open('cropped_image.pdf', 'wb') as cropped_pdf_file:\n",
        "        cropped_pdf_writer.write(cropped_pdf_file)\n",
        "\n",
        "# Создание функции для преобразования PDF в изображения\n",
        "def convert_to_images(input_file):\n",
        "    images = convert_from_path(input_file)\n",
        "    image = images[0]\n",
        "    output_file = 'PDF_image.png'\n",
        "    image.save(output_file, 'PNG')\n",
        "\n",
        "def get_file_extension(file_path):\n",
        "    \"\"\"Возвращает расширение файла в нижнем регистре.\"\"\"\n",
        "    return os.path.splitext(file_path)[1].lower()\n",
        "\n",
        "def image_to_text(image_path):\n",
        "    try:\n",
        "        # Открываем изображение с явным указанием формата\n",
        "        img = Image.open(image_path)\n",
        "\n",
        "        # Конвертируем в RGB если нужно\n",
        "        if img.mode != 'RGB':\n",
        "            img = img.convert('RGB')\n",
        "\n",
        "        # Явно указываем формат для сохранения\n",
        "        temp_file = \"temp_image.png\"\n",
        "        img.save(temp_file, format='PNG')\n",
        "\n",
        "        # Переоткрываем сохраненное изображение\n",
        "        img = Image.open(temp_file)\n",
        "\n",
        "        text = pytesseract.image_to_string(img, lang='rus+eng')\n",
        "        os.remove(temp_file)  # Удаляем временный файл\n",
        "        return text\n",
        "\n",
        "    except Exception as e:\n",
        "        print(f\"Ошибка обработки изображения: {str(e)}\")\n",
        "        return \"\""
      ]
    },
    {
      "cell_type": "markdown",
      "metadata": {
        "id": "xuPebjymN5J0"
      },
      "source": [
        "### Извлечение текста в виде функции"
      ]
    },
    {
      "cell_type": "code",
      "execution_count": 9,
      "metadata": {
        "id": "eGDgOOavMwc-"
      },
      "outputs": [],
      "source": [
        "def extract_text_from_pdf_or_image(pdf_path):\n",
        "    \"\"\"\n",
        "    Функция для извлечения текста из PDF-файла или изображения (JPG/PNG).\n",
        "    Возвращает распознанный текст в виде строки.\n",
        "    \"\"\"\n",
        "    # Проверяем расширение файла\n",
        "    extension = get_file_extension(pdf_path)\n",
        "\n",
        "        # Обработка изображений\n",
        "    if extension in ['.jpg', '.jpeg', '.png']:\n",
        "        return image_to_text(pdf_path)\n",
        "\n",
        "    # Создать объект файла PDF\n",
        "    pdfFileObj = open(pdf_path, 'rb')\n",
        "    # Создать объект для чтения PDF\n",
        "    pdfReaded = PyPDF2.PdfReader(pdfFileObj)\n",
        "\n",
        "    # Создать словарь для извлечения текста из каждого изображения\n",
        "    text_per_page = {}\n",
        "    # Создать булеву переменную для обнаружения изображений\n",
        "    image_flag = False\n",
        "\n",
        "    # Извлекаем страницы из PDF\n",
        "    for pagenum, page in enumerate(extract_pages(pdf_path)):\n",
        "        # Инициализируем переменные, необходимые для извлечения текста со страницы\n",
        "        pageObj = pdfReaded.pages[pagenum]\n",
        "        page_text = []\n",
        "        line_format = []\n",
        "        text_from_images = []\n",
        "        text_from_tables = []\n",
        "        page_content = []\n",
        "        # Инициализируем номер рассматриваемых таблиц\n",
        "        table_in_page = -1\n",
        "        # Открываем PDF файл\n",
        "        pdf = pdfplumber.open(pdf_path)\n",
        "        # Находим рассматриваемую страницу\n",
        "        page_tables = pdf.pages[pagenum]\n",
        "        # Находим количество таблиц на странице\n",
        "        tables = page_tables.find_tables()\n",
        "        if len(tables) != 0:\n",
        "            table_in_page = 0\n",
        "\n",
        "        # Извлечение таблиц со страницы\n",
        "        for table_num in range(len(tables)):\n",
        "            # Извлекаем информацию о таблице\n",
        "            table = extract_table(pdf_path, pagenum, table_num)\n",
        "            # Преобразуем информацию о таблице в структурированный строковый формат\n",
        "            table_string = table_converter(table)\n",
        "            # Добавляем строку таблицы в список\n",
        "            text_from_tables.append(table_string)\n",
        "\n",
        "        # Находим все элементы\n",
        "        page_elements = [(element.y1, element) for element in page._objs]\n",
        "        # Сортируем все элементы так, как они появляются на странице\n",
        "        page_elements.sort(key=lambda a: a[0], reverse=True)\n",
        "\n",
        "        # Находим элементы, которые составляют страницу\n",
        "        for i, component in enumerate(page_elements):\n",
        "            # Извлекаем элемент макета страницы\n",
        "            element = component[1]\n",
        "\n",
        "            # Проверяем элементы на наличие таблиц\n",
        "            if table_in_page == -1:\n",
        "                pass\n",
        "            else:\n",
        "                if is_element_inside_any_table(element, page, tables):\n",
        "                    table_found = find_table_for_element(element, page, tables)\n",
        "                    if table_found == table_in_page and table_found is not None:\n",
        "                        page_content.append(text_from_tables[table_in_page])\n",
        "                        page_text.append('table')\n",
        "                        line_format.append('table')\n",
        "                        table_in_page += 1\n",
        "                    # Пропускаем эту итерацию, так как содержимое этого элемента было извлечено из таблиц\n",
        "                    continue\n",
        "\n",
        "            if not is_element_inside_any_table(element, page, tables):\n",
        "                # Проверяем, является ли элемент текстовым элементом\n",
        "                if isinstance(element, LTTextContainer):\n",
        "                    # Используем функцию для извлечения текста и формата для каждого текстового элемента\n",
        "                    (line_text, format_per_line) = text_extraction(element)\n",
        "                    # Добавляем текст каждой строки к тексту страницы\n",
        "                    page_text.append(line_text)\n",
        "                    # Добавляем формат для каждой строки с текстом\n",
        "                    line_format.append(format_per_line)\n",
        "                    page_content.append(line_text)\n",
        "\n",
        "                # Проверяем элементы на наличие изображений\n",
        "                if isinstance(element, LTFigure):\n",
        "                    # Обрезаем изображение из PDF\n",
        "                    crop_image(element, pageObj)\n",
        "                    # Конвертируем обрезанный PDF в изображение\n",
        "                    convert_to_images('cropped_image.pdf')\n",
        "                    # Извлекаем текст из изображения\n",
        "                    image_text = image_to_text('PDF_image.png')\n",
        "                    text_from_images.append(image_text)\n",
        "                    page_content.append(image_text)\n",
        "                    # Добавляем заполнитель в списки текста и формата\n",
        "                    page_text.append('image')\n",
        "                    line_format.append('image')\n",
        "                    # Обновляем флаг для обнаружения изображений\n",
        "                    image_flag = True\n",
        "\n",
        "        # Создаем ключ словаря\n",
        "        dctkey = 'Page_' + str(pagenum)\n",
        "        # Добавляем список списков в качестве значения по ключу страницы\n",
        "        text_per_page[dctkey] = [page_text, line_format, text_from_images, text_from_tables, page_content]\n",
        "\n",
        "    # Закроем объект пдф\n",
        "    pdfFileObj.close()\n",
        "\n",
        "    # Удаляем дополнительные файлы, созданные при обнаружении изображения\n",
        "    if image_flag:\n",
        "        os.remove('cropped_image.pdf')\n",
        "        os.remove('PDF_image.png')\n",
        "\n",
        "    # Объединяем текст со всех страниц\n",
        "    result = ''\n",
        "    for page_key in text_per_page:\n",
        "        result += ''.join(text_per_page[page_key][4])\n",
        "\n",
        "    return result"
      ]
    },
    {
      "cell_type": "markdown",
      "metadata": {
        "id": "pOppLfS_e5Gk"
      },
      "source": [
        "### Вызов функции"
      ]
    },
    {
      "cell_type": "code",
      "execution_count": 10,
      "metadata": {
        "colab": {
          "base_uri": "https://localhost:8080/"
        },
        "id": "1kdiDwLSVJZL",
        "outputId": "445eeafa-2a49-4fa9-9eb9-ae48fa9c892a"
      },
      "outputs": [
        {
          "name": "stdout",
          "output_type": "stream",
          "text": [
            "Текст успешно извлечен и сохранен в output.txt\n"
          ]
        }
      ],
      "source": [
        "# Путь к файлу (PDF, JPG или PNG)\n",
        "file_path = './data/Анализ кровь_page-0001.jpg'\n",
        "\n",
        "# Извлечение текста\n",
        "extracted_text = extract_text_from_pdf_or_image(file_path)\n",
        "\n",
        "# Сохранение текста в файл .txt\n",
        "with open('output.txt', 'w', encoding='utf-8') as f:\n",
        "    f.write(extracted_text)\n",
        "\n",
        "print(\"Текст успешно извлечен и сохранен в output.txt\")"
      ]
    },
    {
      "cell_type": "code",
      "execution_count": null,
      "metadata": {
        "colab": {
          "base_uri": "https://localhost:8080/"
        },
        "id": "fQr0RzHUVQAo",
        "outputId": "99cfe27f-6895-4331-8b90-8e9549640cee"
      },
      "outputs": [],
      "source": [
        "print(extracted_text)"
      ]
    }
  ],
  "metadata": {
    "colab": {
      "provenance": []
    },
    "kernelspec": {
      "display_name": "venv",
      "language": "python",
      "name": "python3"
    },
    "language_info": {
      "codemirror_mode": {
        "name": "ipython",
        "version": 3
      },
      "file_extension": ".py",
      "mimetype": "text/x-python",
      "name": "python",
      "nbconvert_exporter": "python",
      "pygments_lexer": "ipython3",
      "version": "3.12.3"
    },
    "orig_nbformat": 4
  },
  "nbformat": 4,
  "nbformat_minor": 0
}
